{
 "cells": [
  {
   "cell_type": "code",
   "execution_count": 1,
   "metadata": {},
   "outputs": [
    {
     "name": "stdout",
     "output_type": "stream",
     "text": [
      "First 3 rows using iloc:\n",
      "   Name Department  Age  Gender  Salary  Experience\n",
      "0  John         IT   30    Male   50000           3\n",
      "1  Mary  Marketing   40  Female   60000           7\n",
      "2   Bob      Sales   25    Male   45000           2\n",
      "\n",
      "All rows where Department is 'Marketing' using loc:\n",
      "   Name Department  Age  Gender  Salary  Experience\n",
      "1  Mary  Marketing   40  Female   60000           7\n",
      "5  Lisa  Marketing   28  Female   55000           4\n",
      "\n",
      "Age and Gender for the first 4 rows using iloc:\n",
      "   Age  Gender\n",
      "0   30    Male\n",
      "1   40  Female\n",
      "2   25    Male\n",
      "3   35  Female\n",
      "\n",
      "Salary and Experience for all rows where Gender is 'Male' using loc:\n",
      "   Salary  Experience\n",
      "0   50000           3\n",
      "2   45000           2\n",
      "4   70000          10\n"
     ]
    }
   ],
   "source": [
    "import pandas as pd\n",
    "\n",
    "# Create the DataFrame\n",
    "data = {\n",
    "    'Name': ['John', 'Mary', 'Bob', 'Sarah', 'Tom', 'Lisa'],\n",
    "    'Department': ['IT', 'Marketing', 'Sales', 'IT', 'Finance', 'Marketing'],\n",
    "    'Age': [30, 40, 25, 35, 45, 28],\n",
    "    'Gender': ['Male', 'Female', 'Male', 'Female', 'Male', 'Female'],\n",
    "    'Salary': [50000, 60000, 45000, 55000, 70000, 55000],\n",
    "    'Experience': [3, 7, 2, 5, 10, 4]\n",
    "}\n",
    "\n",
    "employee_df = pd.DataFrame(data)\n",
    "\n",
    "# 1. Use iloc to select the first 3 rows\n",
    "first_three_rows = employee_df.iloc[:3]\n",
    "print(\"First 3 rows using iloc:\")\n",
    "print(first_three_rows)\n",
    "\n",
    "# 2. Use loc to select all rows where the Department is \"Marketing\"\n",
    "marketing_department = employee_df.loc[employee_df['Department'] == 'Marketing']\n",
    "print(\"\\nAll rows where Department is 'Marketing' using loc:\")\n",
    "print(marketing_department)\n",
    "\n",
    "# 3. Use iloc to select the Age and Gender columns for the first 4 rows\n",
    "age_gender_first_four = employee_df.iloc[:4, [2, 3]]  # Columns Age (2) and Gender (3)\n",
    "print(\"\\nAge and Gender for the first 4 rows using iloc:\")\n",
    "print(age_gender_first_four)\n",
    "\n",
    "# 4. Use loc to select the Salary and Experience columns for all rows where the Gender is 'Male'\n",
    "male_salary_experience = employee_df.loc[employee_df['Gender'] == 'Male', ['Salary', 'Experience']]\n",
    "print(\"\\nSalary and Experience for all rows where Gender is 'Male' using loc:\")\n",
    "print(male_salary_experience)\n"
   ]
  }
 ],
 "metadata": {
  "kernelspec": {
   "display_name": "Python 3",
   "language": "python",
   "name": "python3"
  },
  "language_info": {
   "codemirror_mode": {
    "name": "ipython",
    "version": 3
   },
   "file_extension": ".py",
   "mimetype": "text/x-python",
   "name": "python",
   "nbconvert_exporter": "python",
   "pygments_lexer": "ipython3",
   "version": "3.13.0"
  }
 },
 "nbformat": 4,
 "nbformat_minor": 2
}
